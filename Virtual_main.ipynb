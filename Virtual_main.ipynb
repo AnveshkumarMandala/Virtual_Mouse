{
 "cells": [
  {
   "cell_type": "code",
   "execution_count": 1,
   "id": "375accdc-f496-46a5-9fc3-24452cddb1ed",
   "metadata": {},
   "outputs": [
    {
     "name": "stdout",
     "output_type": "stream",
     "text": [
      "Requirement already satisfied: opencv-python in c:\\users\\anvesh\\miniconda3\\lib\\site-packages (4.11.0.86)\n",
      "Requirement already satisfied: numpy>=1.21.2 in c:\\users\\anvesh\\miniconda3\\lib\\site-packages (from opencv-python) (1.26.4)\n"
     ]
    }
   ],
   "source": [
    "!pip install opencv-python"
   ]
  },
  {
   "cell_type": "code",
   "execution_count": 2,
   "id": "d176b8c4-379e-461a-b0d9-c86b6bbf75cc",
   "metadata": {},
   "outputs": [
    {
     "name": "stdout",
     "output_type": "stream",
     "text": [
      "Requirement already satisfied: mediapipe in c:\\users\\anvesh\\miniconda3\\lib\\site-packages (0.10.21)\n",
      "Requirement already satisfied: absl-py in c:\\users\\anvesh\\miniconda3\\lib\\site-packages (from mediapipe) (2.1.0)\n",
      "Requirement already satisfied: attrs>=19.1.0 in c:\\users\\anvesh\\miniconda3\\lib\\site-packages (from mediapipe) (24.3.0)\n",
      "Requirement already satisfied: flatbuffers>=2.0 in c:\\users\\anvesh\\miniconda3\\lib\\site-packages (from mediapipe) (25.2.10)\n",
      "Requirement already satisfied: jax in c:\\users\\anvesh\\miniconda3\\lib\\site-packages (from mediapipe) (0.5.2)\n",
      "Requirement already satisfied: jaxlib in c:\\users\\anvesh\\miniconda3\\lib\\site-packages (from mediapipe) (0.5.1)\n",
      "Requirement already satisfied: matplotlib in c:\\users\\anvesh\\miniconda3\\lib\\site-packages (from mediapipe) (3.10.1)\n",
      "Requirement already satisfied: numpy<2 in c:\\users\\anvesh\\miniconda3\\lib\\site-packages (from mediapipe) (1.26.4)\n",
      "Requirement already satisfied: opencv-contrib-python in c:\\users\\anvesh\\miniconda3\\lib\\site-packages (from mediapipe) (4.11.0.86)\n",
      "Requirement already satisfied: protobuf<5,>=4.25.3 in c:\\users\\anvesh\\miniconda3\\lib\\site-packages (from mediapipe) (4.25.6)\n",
      "Requirement already satisfied: sounddevice>=0.4.4 in c:\\users\\anvesh\\miniconda3\\lib\\site-packages (from mediapipe) (0.5.1)\n",
      "Requirement already satisfied: sentencepiece in c:\\users\\anvesh\\miniconda3\\lib\\site-packages (from mediapipe) (0.2.0)\n",
      "Requirement already satisfied: CFFI>=1.0 in c:\\users\\anvesh\\miniconda3\\lib\\site-packages (from sounddevice>=0.4.4->mediapipe) (1.17.1)\n",
      "Requirement already satisfied: ml_dtypes>=0.4.0 in c:\\users\\anvesh\\miniconda3\\lib\\site-packages (from jax->mediapipe) (0.5.1)\n",
      "Requirement already satisfied: opt_einsum in c:\\users\\anvesh\\miniconda3\\lib\\site-packages (from jax->mediapipe) (3.4.0)\n",
      "Requirement already satisfied: scipy>=1.11.1 in c:\\users\\anvesh\\miniconda3\\lib\\site-packages (from jax->mediapipe) (1.15.2)\n",
      "Requirement already satisfied: contourpy>=1.0.1 in c:\\users\\anvesh\\miniconda3\\lib\\site-packages (from matplotlib->mediapipe) (1.3.1)\n",
      "Requirement already satisfied: cycler>=0.10 in c:\\users\\anvesh\\miniconda3\\lib\\site-packages (from matplotlib->mediapipe) (0.12.1)\n",
      "Requirement already satisfied: fonttools>=4.22.0 in c:\\users\\anvesh\\miniconda3\\lib\\site-packages (from matplotlib->mediapipe) (4.56.0)\n",
      "Requirement already satisfied: kiwisolver>=1.3.1 in c:\\users\\anvesh\\miniconda3\\lib\\site-packages (from matplotlib->mediapipe) (1.4.8)\n",
      "Requirement already satisfied: packaging>=20.0 in c:\\users\\anvesh\\miniconda3\\lib\\site-packages (from matplotlib->mediapipe) (24.2)\n",
      "Requirement already satisfied: pillow>=8 in c:\\users\\anvesh\\miniconda3\\lib\\site-packages (from matplotlib->mediapipe) (11.1.0)\n",
      "Requirement already satisfied: pyparsing>=2.3.1 in c:\\users\\anvesh\\miniconda3\\lib\\site-packages (from matplotlib->mediapipe) (3.2.1)\n",
      "Requirement already satisfied: python-dateutil>=2.7 in c:\\users\\anvesh\\miniconda3\\lib\\site-packages (from matplotlib->mediapipe) (2.9.0.post0)\n",
      "Requirement already satisfied: pycparser in c:\\users\\anvesh\\miniconda3\\lib\\site-packages (from CFFI>=1.0->sounddevice>=0.4.4->mediapipe) (2.21)\n",
      "Requirement already satisfied: six>=1.5 in c:\\users\\anvesh\\miniconda3\\lib\\site-packages (from python-dateutil>=2.7->matplotlib->mediapipe) (1.16.0)\n"
     ]
    }
   ],
   "source": [
    "!pip install mediapipe"
   ]
  },
  {
   "cell_type": "code",
   "execution_count": 3,
   "id": "3e28a5bf-01c7-4817-b77d-663b725cfe8b",
   "metadata": {},
   "outputs": [
    {
     "name": "stdout",
     "output_type": "stream",
     "text": [
      "Requirement already satisfied: pyautogui in c:\\users\\anvesh\\miniconda3\\lib\\site-packages (0.9.54)\n",
      "Requirement already satisfied: pymsgbox in c:\\users\\anvesh\\miniconda3\\lib\\site-packages (from pyautogui) (1.0.9)\n",
      "Requirement already satisfied: pytweening>=1.0.4 in c:\\users\\anvesh\\miniconda3\\lib\\site-packages (from pyautogui) (1.2.0)\n",
      "Requirement already satisfied: pyscreeze>=0.1.21 in c:\\users\\anvesh\\miniconda3\\lib\\site-packages (from pyautogui) (1.0.1)\n",
      "Requirement already satisfied: pygetwindow>=0.0.5 in c:\\users\\anvesh\\miniconda3\\lib\\site-packages (from pyautogui) (0.0.9)\n",
      "Requirement already satisfied: mouseinfo in c:\\users\\anvesh\\miniconda3\\lib\\site-packages (from pyautogui) (0.1.3)\n",
      "Requirement already satisfied: pyrect in c:\\users\\anvesh\\miniconda3\\lib\\site-packages (from pygetwindow>=0.0.5->pyautogui) (0.2.0)\n",
      "Requirement already satisfied: pyperclip in c:\\users\\anvesh\\miniconda3\\lib\\site-packages (from mouseinfo->pyautogui) (1.9.0)\n"
     ]
    }
   ],
   "source": [
    "!pip install pyautogui"
   ]
  },
  {
   "cell_type": "code",
   "execution_count": 4,
   "id": "d6f40d23-1a60-49a8-8935-f52700962d7c",
   "metadata": {},
   "outputs": [
    {
     "name": "stdout",
     "output_type": "stream",
     "text": [
      "Requirement already satisfied: pynput in c:\\users\\anvesh\\miniconda3\\lib\\site-packages (1.8.0)\n",
      "Requirement already satisfied: six in c:\\users\\anvesh\\miniconda3\\lib\\site-packages (from pynput) (1.16.0)\n"
     ]
    }
   ],
   "source": [
    "!pip install pynput"
   ]
  },
  {
   "cell_type": "code",
   "execution_count": 5,
   "id": "18e03030-4412-48fa-bc3c-0dac6a05a17a",
   "metadata": {},
   "outputs": [],
   "source": [
    "import cv2\n",
    "import mediapipe as mp\n",
    "import pyautogui\n",
    "import util\n",
    "import random\n",
    "from pynput.mouse import Button, Controller\n",
    "mouse = Controller()"
   ]
  },
  {
   "cell_type": "code",
   "execution_count": 6,
   "id": "c482ba96-ae42-48b8-89b0-14e51cfd251a",
   "metadata": {},
   "outputs": [],
   "source": [
    "screen_width, screen_height = pyautogui.size()\n",
    "mouse = Controller()\n",
    "mpHands = mp.solutions.hands\n",
    "hands = mpHands.Hands(\n",
    "    static_image_mode=False,\n",
    "    model_complexity=1,\n",
    "    min_detection_confidence=0.7,\n",
    "    min_tracking_confidence=0.7,\n",
    "    max_num_hands=1\n",
    ")"
   ]
  },
  {
   "cell_type": "code",
   "execution_count": 7,
   "id": "8524fc3c-0f88-4634-a265-825e8f7b66c4",
   "metadata": {},
   "outputs": [],
   "source": [
    "def find_finger_tip(processed):\n",
    "    if processed.multi_hand_landmarks:\n",
    "        hand_landmarks = processed.multi_hand_landmarks[0]  # Assuming only one hand is detected\n",
    "        return  hand_landmarks.landmark[mpHands.HandLandmark.INDEX_FINGER_TIP]\n",
    "         \n",
    "    return None"
   ]
  },
  {
   "cell_type": "code",
   "execution_count": 8,
   "id": "e86a3a9f-3f57-47c3-b97e-3c0885f64ffd",
   "metadata": {},
   "outputs": [],
   "source": [
    "def move_mouse(index_finger_tip):\n",
    "    if index_finger_tip is not None:\n",
    "        x = int(index_finger_tip.x * screen_width)\n",
    "        y = int(index_finger_tip.y / 2 * screen_height)\n",
    "        pyautogui.moveTo(x, y)"
   ]
  },
  {
   "cell_type": "code",
   "execution_count": 9,
   "id": "44363fd1-c7b0-4ccd-a644-01c6983f375f",
   "metadata": {},
   "outputs": [],
   "source": [
    "def is_left_click(landmark_list, thumb_index_dist):\n",
    "    return (\n",
    "            util.get_angle(landmark_list[5], landmark_list[6], landmark_list[8]) < 50 and\n",
    "            util.get_angle(landmark_list[9], landmark_list[10], landmark_list[12]) > 90 and\n",
    "            thumb_index_dist > 50\n",
    "    )\n",
    "\n",
    "\n",
    "def is_right_click(landmark_list, thumb_index_dist):\n",
    "    return (\n",
    "            util.get_angle(landmark_list[9], landmark_list[10], landmark_list[12]) < 50 and\n",
    "            util.get_angle(landmark_list[5], landmark_list[6], landmark_list[8]) > 90  and\n",
    "            thumb_index_dist > 50\n",
    "    )\n",
    "\n",
    "\n",
    "def is_double_click(landmark_list, thumb_index_dist):\n",
    "    return (\n",
    "            util.get_angle(landmark_list[5], landmark_list[6], landmark_list[8]) < 50 and\n",
    "            util.get_angle(landmark_list[9], landmark_list[10], landmark_list[12]) < 50 and\n",
    "            thumb_index_dist > 50\n",
    "    )\n",
    "\n",
    "\n",
    "def is_screenshot(landmark_list, thumb_index_dist):\n",
    "    return (\n",
    "            util.get_angle(landmark_list[5], landmark_list[6], landmark_list[8]) < 50 and\n",
    "            util.get_angle(landmark_list[9], landmark_list[10], landmark_list[12]) < 50 and\n",
    "            thumb_index_dist < 50\n",
    "    )"
   ]
  },
  {
   "cell_type": "code",
   "execution_count": 10,
   "id": "ff7e691e-c4d4-436c-b249-ac2ee282137d",
   "metadata": {},
   "outputs": [],
   "source": [
    "def detect_gesture(frame, landmark_list, processed):\n",
    "    if len(landmark_list) >= 21:\n",
    "\n",
    "        index_finger_tip = find_finger_tip(processed)\n",
    "        thumb_index_dist = util.get_distance([landmark_list[4], landmark_list[5]])\n",
    "\n",
    "        if util.get_distance([landmark_list[4], landmark_list[5]]) < 50  and util.get_angle(landmark_list[5], landmark_list[6], landmark_list[8]) > 90:\n",
    "            move_mouse(index_finger_tip)\n",
    "        elif is_left_click(landmark_list,  thumb_index_dist):\n",
    "            mouse.press(Button.left)\n",
    "            mouse.release(Button.left)\n",
    "            cv2.putText(frame, \"Left Click\", (50, 50), cv2.FONT_HERSHEY_SIMPLEX, 1, (0, 255, 0), 2)\n",
    "        elif is_right_click(landmark_list, thumb_index_dist):\n",
    "            mouse.press(Button.right)\n",
    "            mouse.release(Button.right)\n",
    "            cv2.putText(frame, \"Right Click\", (50, 50), cv2.FONT_HERSHEY_SIMPLEX, 1, (0, 0, 255), 2)\n",
    "        elif is_double_click(landmark_list, thumb_index_dist):\n",
    "            pyautogui.doubleClick()\n",
    "            cv2.putText(frame, \"Double Click\", (50, 50), cv2.FONT_HERSHEY_SIMPLEX, 1, (255, 255, 0), 2)\n",
    "        elif is_screenshot(landmark_list,thumb_index_dist ):\n",
    "            im1 = pyautogui.screenshot()\n",
    "            label = random.randint(1, 1000)\n",
    "            im1.save(f'my_screenshot_{label}.png')\n",
    "            cv2.putText(frame, \"Screenshot Taken\", (50, 50), cv2.FONT_HERSHEY_SIMPLEX, 1, (255, 255, 0), 2)\n"
   ]
  },
  {
   "cell_type": "code",
   "execution_count": null,
   "id": "3b5e1101-8325-497e-a410-7f1dd1d1fc9b",
   "metadata": {},
   "outputs": [],
   "source": [
    "def main():\n",
    "    cap = cv2.VideoCapture(0)\n",
    "    draw = mp.solutions.drawing_utils\n",
    "\n",
    "\n",
    "    try:\n",
    "        while cap.isOpened():\n",
    "            ret, frame = cap.read()\n",
    "            if not ret:\n",
    "                break\n",
    "            frame = cv2.flip(frame, 1)\n",
    "            frameRGB = cv2.cvtColor(frame, cv2.COLOR_BGR2RGB)\n",
    "            processed = hands.process(frameRGB)\n",
    "\n",
    "            landmarks_list = []\n",
    "            if processed.multi_hand_landmarks:\n",
    "                hand_landmarks = processed.multi_hand_landmarks[0]  # Assuming only one hand is detected\n",
    "                draw.draw_landmarks(frame, hand_landmarks, mpHands.HAND_CONNECTIONS)\n",
    "                for lm in hand_landmarks.landmark:\n",
    "                    landmarks_list.append((lm.x, lm.y))\n",
    "\n",
    "            detect_gesture(frame, landmarks_list, processed)\n",
    "                 \n",
    "            cv2.imshow('Frame', frame)\n",
    "            if cv2.waitKey(1) & 0xFF == ord('q'):\n",
    "                break\n",
    "    finally:\n",
    "        cap.release()\n",
    "        cv2.destroyAllWindows()\n",
    "\n",
    "\n",
    "if __name__ == '__main__':\n",
    "    main()\n"
   ]
  }
 ],
 "metadata": {
  "kernelspec": {
   "display_name": "Python 3 (ipykernel)",
   "language": "python",
   "name": "python3"
  },
  "language_info": {
   "codemirror_mode": {
    "name": "ipython",
    "version": 3
   },
   "file_extension": ".py",
   "mimetype": "text/x-python",
   "name": "python",
   "nbconvert_exporter": "python",
   "pygments_lexer": "ipython3",
   "version": "3.12.9"
  }
 },
 "nbformat": 4,
 "nbformat_minor": 5
}
